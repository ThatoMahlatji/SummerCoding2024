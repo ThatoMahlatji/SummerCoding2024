{
 "cells": [
  {
   "cell_type": "code",
   "execution_count": 2,
   "id": "726f3f2e-f54f-4ecc-b924-6d888834b9c8",
   "metadata": {
    "tags": []
   },
   "outputs": [],
   "source": [
    "import pandas as pd"
   ]
  },
  {
   "cell_type": "code",
   "execution_count": null,
   "id": "1c594ab9-91f6-4291-99d6-a3c4a2f8dde6",
   "metadata": {
    "tags": []
   },
   "outputs": [],
   "source": []
  },
  {
   "cell_type": "code",
   "execution_count": 3,
   "id": "874a3d05-5fb1-41b8-9747-9c36e7c9d0b3",
   "metadata": {
    "tags": []
   },
   "outputs": [],
   "source": [
    "df = pd.read_csv(\"../../../Day2/css2024_day2/data_02/country_data_index.csv\")"
   ]
  },
  {
   "cell_type": "code",
   "execution_count": 4,
   "id": "bb3ac37b-c0f2-40a9-8e38-e0f8421aaa1a",
   "metadata": {
    "tags": []
   },
   "outputs": [
    {
     "data": {
      "text/html": [
       "<div>\n",
       "<style scoped>\n",
       "    .dataframe tbody tr th:only-of-type {\n",
       "        vertical-align: middle;\n",
       "    }\n",
       "\n",
       "    .dataframe tbody tr th {\n",
       "        vertical-align: top;\n",
       "    }\n",
       "\n",
       "    .dataframe thead th {\n",
       "        text-align: right;\n",
       "    }\n",
       "</style>\n",
       "<table border=\"1\" class=\"dataframe\">\n",
       "  <thead>\n",
       "    <tr style=\"text-align: right;\">\n",
       "      <th></th>\n",
       "      <th>Unnamed: 0</th>\n",
       "      <th>Age</th>\n",
       "      <th>Gender</th>\n",
       "      <th>Country</th>\n",
       "    </tr>\n",
       "  </thead>\n",
       "  <tbody>\n",
       "    <tr>\n",
       "      <th>0</th>\n",
       "      <td>0</td>\n",
       "      <td>39</td>\n",
       "      <td>M</td>\n",
       "      <td>South Africa</td>\n",
       "    </tr>\n",
       "    <tr>\n",
       "      <th>1</th>\n",
       "      <td>1</td>\n",
       "      <td>25</td>\n",
       "      <td>M</td>\n",
       "      <td>Botswana</td>\n",
       "    </tr>\n",
       "    <tr>\n",
       "      <th>2</th>\n",
       "      <td>2</td>\n",
       "      <td>29</td>\n",
       "      <td>F</td>\n",
       "      <td>South Africa</td>\n",
       "    </tr>\n",
       "    <tr>\n",
       "      <th>3</th>\n",
       "      <td>3</td>\n",
       "      <td>46</td>\n",
       "      <td>M</td>\n",
       "      <td>South Africa</td>\n",
       "    </tr>\n",
       "    <tr>\n",
       "      <th>4</th>\n",
       "      <td>4</td>\n",
       "      <td>22</td>\n",
       "      <td>F</td>\n",
       "      <td>Kenya</td>\n",
       "    </tr>\n",
       "    <tr>\n",
       "      <th>5</th>\n",
       "      <td>5</td>\n",
       "      <td>35</td>\n",
       "      <td>F</td>\n",
       "      <td>Mozambique</td>\n",
       "    </tr>\n",
       "    <tr>\n",
       "      <th>6</th>\n",
       "      <td>6</td>\n",
       "      <td>22</td>\n",
       "      <td>F</td>\n",
       "      <td>Lesotho</td>\n",
       "    </tr>\n",
       "    <tr>\n",
       "      <th>7</th>\n",
       "      <td>7</td>\n",
       "      <td>49</td>\n",
       "      <td>M</td>\n",
       "      <td>Kenya</td>\n",
       "    </tr>\n",
       "    <tr>\n",
       "      <th>8</th>\n",
       "      <td>8</td>\n",
       "      <td>30</td>\n",
       "      <td>M</td>\n",
       "      <td>Kenya</td>\n",
       "    </tr>\n",
       "    <tr>\n",
       "      <th>9</th>\n",
       "      <td>9</td>\n",
       "      <td>40</td>\n",
       "      <td>F</td>\n",
       "      <td>Egypt</td>\n",
       "    </tr>\n",
       "    <tr>\n",
       "      <th>10</th>\n",
       "      <td>10</td>\n",
       "      <td>30</td>\n",
       "      <td>M</td>\n",
       "      <td>Sudan</td>\n",
       "    </tr>\n",
       "  </tbody>\n",
       "</table>\n",
       "</div>"
      ],
      "text/plain": [
       "    Unnamed: 0  Age Gender       Country\n",
       "0            0   39      M  South Africa\n",
       "1            1   25      M      Botswana\n",
       "2            2   29      F  South Africa\n",
       "3            3   46      M  South Africa\n",
       "4            4   22      F         Kenya\n",
       "5            5   35      F    Mozambique\n",
       "6            6   22      F       Lesotho\n",
       "7            7   49      M         Kenya\n",
       "8            8   30      M         Kenya\n",
       "9            9   40      F         Egypt\n",
       "10          10   30      M         Sudan"
      ]
     },
     "execution_count": 4,
     "metadata": {},
     "output_type": "execute_result"
    }
   ],
   "source": [
    "df"
   ]
  },
  {
   "cell_type": "code",
   "execution_count": 5,
   "id": "f9aff904-2c54-4dbf-992f-6734a7e8f24d",
   "metadata": {
    "tags": []
   },
   "outputs": [
    {
     "data": {
      "text/plain": [
       "0     39\n",
       "1     25\n",
       "2     29\n",
       "3     46\n",
       "4     22\n",
       "5     35\n",
       "6     22\n",
       "7     49\n",
       "8     30\n",
       "9     40\n",
       "10    30\n",
       "Name: Age, dtype: int64"
      ]
     },
     "execution_count": 5,
     "metadata": {},
     "output_type": "execute_result"
    }
   ],
   "source": [
    "df[\"Age\"]"
   ]
  },
  {
   "cell_type": "code",
   "execution_count": 6,
   "id": "de845c47-b874-48a7-b840-dff809466956",
   "metadata": {
    "tags": []
   },
   "outputs": [
    {
     "data": {
      "text/plain": [
       "[39, 25, 29, 46, 22, 35, 22, 49, 30, 40, 30]"
      ]
     },
     "execution_count": 6,
     "metadata": {},
     "output_type": "execute_result"
    }
   ],
   "source": [
    "list(df[\"Age\"])"
   ]
  },
  {
   "cell_type": "code",
   "execution_count": null,
   "id": "888474ce-3a64-42f7-a7cf-b21d4ae66726",
   "metadata": {},
   "outputs": [],
   "source": []
  },
  {
   "cell_type": "code",
   "execution_count": 7,
   "id": "491bf6fd-e5fd-4e13-b255-2a2b82d66574",
   "metadata": {
    "tags": []
   },
   "outputs": [
    {
     "name": "stdout",
     "output_type": "stream",
     "text": [
      "i =  0\n",
      "31.76859504132228\n",
      "i =  1\n",
      "69.95041322314054\n",
      "i =  2\n",
      "19.041322314049616\n",
      "i =  3\n",
      "159.67768595041315\n",
      "i =  4\n",
      "129.13223140495876\n",
      "i =  5\n",
      "2.6776859504132124\n",
      "i =  6\n",
      "129.13223140495876\n",
      "i =  7\n",
      "244.49586776859493\n",
      "i =  8\n",
      "11.314049586776882\n",
      "i =  9\n",
      "44.041322314049545\n",
      "i =  10\n",
      "11.314049586776882\n"
     ]
    }
   ],
   "source": [
    "sq_diff_list = []\n",
    "\n",
    "age = list(df[\"Age\"])\n",
    "mean = sum(age)/len(age)\n",
    "\n",
    "for i in range(len(age)):\n",
    "    print(\"i = \",i)\n",
    "    sq_diff = (age[i] - mean)**2\n",
    "    sq_diff_list.append(sq_diff)\n",
    "    print(sq_diff)"
   ]
  },
  {
   "cell_type": "code",
   "execution_count": 8,
   "id": "15a1ff09-25ad-4c9b-bf14-02ee5edfd44a",
   "metadata": {
    "tags": []
   },
   "outputs": [
    {
     "name": "stdout",
     "output_type": "stream",
     "text": [
      "sq_diff_list =  [31.76859504132228, 69.95041322314054, 19.041322314049616, 159.67768595041315, 129.13223140495876, 2.6776859504132124, 129.13223140495876, 244.49586776859493, 11.314049586776882, 44.041322314049545, 11.314049586776882]\n"
     ]
    }
   ],
   "source": [
    "print(\"sq_diff_list = \", sq_diff_list)"
   ]
  },
  {
   "cell_type": "code",
   "execution_count": 9,
   "id": "b899aef6-f2b2-4ef5-87cc-3cc714d93118",
   "metadata": {
    "tags": []
   },
   "outputs": [
    {
     "data": {
      "text/plain": [
       "8.803643122673986"
      ]
     },
     "execution_count": 9,
     "metadata": {},
     "output_type": "execute_result"
    }
   ],
   "source": [
    "mean_sq_diff = sum(sq_diff_list)/len(sq_diff_list)\n",
    "mean_sq_diff**0.5"
   ]
  },
  {
   "cell_type": "code",
   "execution_count": 10,
   "id": "677e7d31-744a-4a2e-977c-7f37d655e564",
   "metadata": {
    "tags": []
   },
   "outputs": [],
   "source": [
    "import numpy as np"
   ]
  },
  {
   "cell_type": "code",
   "execution_count": 11,
   "id": "e55c983d-98fc-4e30-90f5-e15114365ac1",
   "metadata": {
    "tags": []
   },
   "outputs": [
    {
     "data": {
      "text/plain": [
       "8.803643122673984"
      ]
     },
     "execution_count": 11,
     "metadata": {},
     "output_type": "execute_result"
    }
   ],
   "source": [
    "np.std(age)"
   ]
  },
  {
   "cell_type": "code",
   "execution_count": 31,
   "id": "cdec1ab1-daa9-4559-8f86-5beedabbaf1b",
   "metadata": {},
   "outputs": [
    {
     "data": {
      "text/plain": [
       "array([ True,  True,  True,  True,  True,  True,  True,  True,  True,\n",
       "        True,  True,  True,  True,  True,  True,  True,  True,  True,\n",
       "        True,  True])"
      ]
     },
     "execution_count": 31,
     "metadata": {},
     "output_type": "execute_result"
    }
   ],
   "source": [
    "test_array = np.array(hours)\n",
    "test_asarray = np.asarray(hours)\n",
    "test_array == test_asarray"
   ]
  },
  {
   "cell_type": "code",
   "execution_count": 12,
   "id": "95c40124-af20-47d8-af2a-244989bfe5b8",
   "metadata": {
    "tags": []
   },
   "outputs": [],
   "source": [
    "import numpy as np"
   ]
  },
  {
   "cell_type": "code",
   "execution_count": 21,
   "id": "d68da84b-cfb3-4d46-a5b4-c4fa6279bbfa",
   "metadata": {
    "tags": []
   },
   "outputs": [],
   "source": [
    "# Data\n",
    "hours = [29, 9, 10, 38, 16, 26, 50, 10, 30, 33, 43, 2, 39, 15, 44, 29, 41, 15, 24, 50]\n",
    "results = [65, 7, 8, 76, 23, 56, 100, 3, 74, 48, 73, 0, 62, 37, 74, 40, 90, 42, 58, 100]"
   ]
  },
  {
   "cell_type": "code",
   "execution_count": 26,
   "id": "2a00932e-f936-46ad-98f4-27a7877ccc27",
   "metadata": {
    "tags": []
   },
   "outputs": [
    {
     "data": {
      "text/plain": [
       "0.8777480188408425"
      ]
     },
     "execution_count": 26,
     "metadata": {},
     "output_type": "execute_result"
    }
   ],
   "source": [
    "x = np.asarray(hours)\n",
    "y = np.asarray(results)\n",
    "sum_x = np.sum(x)\n",
    "sum_x_2 = np.sum(np.square(x))\n",
    "sum_y = np.sum(y)\n",
    "sum_y_2 = np.sum(np.square(y))\n",
    "sum_xy = np.sum(x*y)\n",
    "n = len(x)\n",
    "top = n*sum_xy - sum_x*sum_y\n",
    "bot_a = np.sqrt(n*sum_x_2 - np.square(sum_x))\n",
    "bot_b = np.sqrt(n*sum_y_2 - np.square(sum_y))\n",
    "bot = bot_a*bot_b\n",
    "R_2 = np.square(top/bot)\n",
    "R_2"
   ]
  },
  {
   "cell_type": "code",
   "execution_count": 27,
   "id": "52bef4c7-3663-447b-9d6f-2f279d93c90d",
   "metadata": {
    "tags": []
   },
   "outputs": [
    {
     "data": {
      "text/plain": [
       "0.8777480188408424"
      ]
     },
     "execution_count": 27,
     "metadata": {},
     "output_type": "execute_result"
    }
   ],
   "source": [
    "from sklearn.metrics import r2_score\n",
    "model = np.polyfit(hours, results,1)\n",
    "predict = np.poly1d(model)\n",
    "r2 = r2_score(results, predict(hours))\n",
    "r2"
   ]
  },
  {
   "cell_type": "code",
   "execution_count": 29,
   "id": "66ef67f6-311d-4d00-9bff-537c3c77c217",
   "metadata": {
    "tags": []
   },
   "outputs": [],
   "source": [
    "import matplotlib.pyplot as plt"
   ]
  },
  {
   "cell_type": "code",
   "execution_count": 30,
   "id": "56f89b62-8e29-496c-81ee-4eae029250db",
   "metadata": {},
   "outputs": [
    {
     "data": {
      "image/png": "[encoded data removed]",
      "text/plain": [
       "<Figure size 640x480 with 1 Axes>"
      ]
     },
     "metadata": {},
     "output_type": "display_data"
    }
   ],
   "source": [
    "# Scatter plot\n",
    "plt.scatter(hours, results, label='Actual data')\n",
    "\n",
    "# Regression line plot\n",
    "plt.plot(hours, predict(hours), color='red', label='Regression line')\n",
    "\n",
    "# Labels and title\n",
    "plt.xlabel('Hours')\n",
    "plt.ylabel('Results')\n",
    "plt.title('Scatter Plot with Regression Line')\n",
    "\n",
    "# Show legend\n",
    "plt.legend()\n",
    "\n",
    "# Display the plot\n",
    "plt.show()"
   ]
  },
  {
   "cell_type": "code",
   "execution_count": null,
   "id": "47976ee1-e11e-403a-a744-763baa1a424a",
   "metadata": {},
   "outputs": [],
   "source": []
  }
 ],
 "metadata": {
  "kernelspec": {
   "display_name": "Python 3 (ipykernel)",
   "language": "python",
   "name": "python3"
  },
  "language_info": {
   "codemirror_mode": {
    "name": "ipython",
    "version": 3
   },
   "file_extension": ".py",
   "mimetype": "text/x-python",
   "name": "python",
   "nbconvert_exporter": "python",
   "pygments_lexer": "ipython3",
   "version": "3.11.5"
  }
 },
 "nbformat": 4,
 "nbformat_minor": 5
}
