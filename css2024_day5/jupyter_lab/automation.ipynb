{
 "cells": [
  {
   "cell_type": "code",
   "execution_count": 1,
   "id": "7a273311-4e57-4120-9b98-48d5b4c98c8e",
   "metadata": {
    "tags": []
   },
   "outputs": [],
   "source": [
    "import pandas as pd"
   ]
  },
  {
   "cell_type": "code",
   "execution_count": 2,
   "id": "38066ced-9174-4d8c-b43e-bcf2d6bed151",
   "metadata": {
    "tags": []
   },
   "outputs": [],
   "source": [
    "import os #for file directory"
   ]
  },
  {
   "cell_type": "code",
   "execution_count": null,
   "id": "7c8dc9ac-f9bc-4304-b131-6f917c93c45c",
   "metadata": {},
   "outputs": [],
   "source": []
  },
  {
   "cell_type": "code",
   "execution_count": 10,
   "id": "aa3d70ec-5698-4800-9cbd-d245bda03f6f",
   "metadata": {
    "tags": []
   },
   "outputs": [],
   "source": [
    "#df = pd.read_csv(\"../csv_files/file_1.csv\")\n",
    "#df"
   ]
  },
  {
   "cell_type": "code",
   "execution_count": null,
   "id": "4e26b4ae-ffb8-45d7-a819-81ac00ff9f1b",
   "metadata": {},
   "outputs": [],
   "source": []
  },
  {
   "cell_type": "code",
   "execution_count": null,
   "id": "45109555-0942-4ede-b72c-73c9aad11fc3",
   "metadata": {},
   "outputs": [],
   "source": []
  },
  {
   "cell_type": "code",
   "execution_count": 3,
   "id": "f0b84f23-d65c-4bb8-a660-752966e4e99c",
   "metadata": {
    "tags": []
   },
   "outputs": [],
   "source": [
    "directory = '../csv_files/'"
   ]
  },
  {
   "cell_type": "code",
   "execution_count": 13,
   "id": "425fdb3e-e2ef-48d6-9e09-4224cff7b93f",
   "metadata": {
    "tags": []
   },
   "outputs": [
    {
     "name": "stdout",
     "output_type": "stream",
     "text": [
      "../csv_files/file_1.csv\n",
      "../csv_files/file_10.csv\n",
      "../csv_files/file_2.csv\n",
      "../csv_files/file_3.csv\n",
      "../csv_files/file_4.csv\n",
      "../csv_files/file_5.csv\n",
      "../csv_files/file_6.csv\n",
      "../csv_files/file_7.csv\n",
      "../csv_files/file_8.csv\n",
      "../csv_files/file_9.csv\n",
      "Sum of 'y' column values for each file: [4945, 5029, 5400, 4753, 5248, 4860, 5084, 4979, 5581, 5217]\n"
     ]
    }
   ],
   "source": [
    "## Loop throught each csv file in a directory\n",
    "\n",
    "sum_list = []\n",
    "\n",
    "for filename in os.listdir(directory):\n",
    "    #print(filename)\n",
    "    if filename.endswith('.csv'):\n",
    "        #print(filename) \n",
    "        file_path = os.path.join(directory, filename)\n",
    "        print(file_path) \n",
    "        \n",
    "        # Read the CSV file using pandas\n",
    "        df = pd.read_csv(file_path)\n",
    "        \n",
    "        # Calculate the sum of 'y' column and append to the list\n",
    "        total_sum = df['y'].sum()\n",
    "        sum_list.append(total_sum)\n",
    "        \n",
    "# Print the list of sums\n",
    "print(\"Sum of 'y' column values for each file:\", sum_list)\n",
    "        "
   ]
  },
  {
   "cell_type": "code",
   "execution_count": null,
   "id": "dae3824f-8f2b-4c11-9c3a-acc755ee4cea",
   "metadata": {},
   "outputs": [],
   "source": []
  },
  {
   "cell_type": "code",
   "execution_count": null,
   "id": "5fe75224-f8a3-48f9-8f6e-4e8792232ced",
   "metadata": {},
   "outputs": [],
   "source": []
  },
  {
   "cell_type": "code",
   "execution_count": null,
   "id": "7756ad9f-50d9-486c-8637-302f8df3e953",
   "metadata": {},
   "outputs": [],
   "source": []
  }
 ],
 "metadata": {
  "kernelspec": {
   "display_name": "Python 3 (ipykernel)",
   "language": "python",
   "name": "python3"
  },
  "language_info": {
   "codemirror_mode": {
    "name": "ipython",
    "version": 3
   },
   "file_extension": ".py",
   "mimetype": "text/x-python",
   "name": "python",
   "nbconvert_exporter": "python",
   "pygments_lexer": "ipython3",
   "version": "3.11.5"
  }
 },
 "nbformat": 4,
 "nbformat_minor": 5
}
