{
 "cells": [
  {
   "cell_type": "code",
   "execution_count": null,
   "id": "a6e680b4",
   "metadata": {},
   "outputs": [],
   "source": [
    "from jupyterthemes import get_themes \n",
    "import jupyterthemes as jt \n",
    "from jupyterthemes.stylefx import set_nb_theme \n"
   ]
  },
  {
   "cell_type": "code",
   "execution_count": null,
   "id": "7c6b6ca0",
   "metadata": {},
   "outputs": [],
   "source": []
  }
 ],
 "metadata": {
  "kernelspec": {
   "display_name": "Python 3 (ipykernel)",
   "language": "python",
   "name": "python3"
  },
  "language_info": {
   "codemirror_mode": {
    "name": "ipython",
    "version": 3
   },
   "file_extension": ".py",
   "mimetype": "text/x-python",
   "name": "python",
   "nbconvert_exporter": "python",
   "pygments_lexer": "ipython3",
   "version": "3.11.4"
  }
 },
 "nbformat": 4,
 "nbformat_minor": 5
}
